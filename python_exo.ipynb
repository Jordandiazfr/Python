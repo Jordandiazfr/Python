{
 "cells": [
  {
   "cell_type": "code",
   "execution_count": 1,
   "metadata": {},
   "outputs": [
    {
     "name": "stdout",
     "output_type": "stream",
     "text": [
      "GROUP #1 : ['name5', 'name2']\n",
      "GROUP #2 : ['name6', 'name3']\n",
      "GROUP #3 : ['name4', 'name1']\n",
      "ETUDIANTS: ['name5', 'name2', 'name6', 'name3', 'name4', 'name1']\n"
     ]
    }
   ],
   "source": [
    "\n",
    "# TRANSPOSER CE CODE DANS UN FICHIER .PY ET TROUVER COMMENT L'EXECUTER DEPUIS UN TERMINAL\n",
    "\n",
    "import random\n",
    "\n",
    "name1 = 'name1'\n",
    "name2 = 'name2'\n",
    "name3 = 'name3'\n",
    "name4 = 'name4'\n",
    "name5 = 'name5'\n",
    "name6 = 'name6'\n",
    "\n",
    "names = [name1, name2, name3, name4, name5, name6]\n",
    "names_total = []  \n",
    "nombre = names\n",
    "\n",
    "nb_groups = 3\n",
    "\n",
    "max_nb_groups = int(len(names) / nb_groups)\n",
    "\n",
    "for i in range(1, nb_groups+1):\n",
    "\n",
    "    selected = random.sample(names, k=max_nb_groups)   \n",
    "    print(\"GROUP #%s : %s\" % (i, selected))\n",
    "\n",
    "    for sel in selected:\n",
    "        names.remove(sel)\n",
    "        names_total.append(sel)    \n",
    "        \n",
    "print(\"ETUDIANTS: %s\" %(names_total))\n",
    "\n",
    "        "
   ]
  },
  {
   "cell_type": "code",
   "execution_count": 2,
   "metadata": {
    "scrolled": true
   },
   "outputs": [
    {
     "name": "stdout",
     "output_type": "stream",
     "text": [
      "['m', 'd', 'k']\n"
     ]
    },
    {
     "data": {
      "text/plain": [
       "' random choice pour un seul string, choices pour une nouvelle liste '"
      ]
     },
     "execution_count": 2,
     "metadata": {},
     "output_type": "execute_result"
    }
   ],
   "source": [
    "# EXPLIQUEZ CE QUE FAIT RANDOM.SAMPLE ET LES ALTERNATIVES QUI EXISTENT EN CHERCHANT SUR INTERNET\n",
    "\n",
    "''' Random simple est un module qui permet choisir aléatoirement un K numero d'items dans une liste, la syntax est\n",
    "random.simple(population,k) '''\n",
    "\n",
    "import random\n",
    "letters = [\"a\",\"b\",\"c\",\"d\",\"e\",\"f\",\"g\",\"h\",\"i\",\"j\",\"k\",\"l\",\"m\",\"n\"]\n",
    "new = random.sample(letters,3) #Cree une liste de 3 lettres aleatoires avec la population 'letters'\n",
    "print(new)\n",
    "\n",
    "''' random choice pour un seul string, choices pour une nouvelle liste '''"
   ]
  },
  {
   "cell_type": "code",
   "execution_count": null,
   "metadata": {},
   "outputs": [],
   "source": [
    "# EXPLIQUEZ LE %S DU PRINT, QUELS SONT LES AUTRES POSSIBILITES\n",
    "'''il permet de formateer les strings avec des variables dedans.\n",
    "il existe %s pour les strings  %d pour les integers  %f - Floating point numbers '''\n",
    "\n",
    "a = \"bernard\"\n",
    "b = \"ca va?\"\n",
    "c = \"tout va bien!\"\n",
    "\n",
    "print(\"hey %s %s %s\" %(a,b,c))"
   ]
  },
  {
   "cell_type": "code",
   "execution_count": null,
   "metadata": {},
   "outputs": [],
   "source": [
    "# EXPLIQUEZ LE BUT DE CE SCRIPT\n",
    "''' Creer nb_groups (3) dans une liste d'etudiants, de façon aleatoire, \n",
    "chaque groupe doit avoir le meme nombre d'integrants '''"
   ]
  },
  {
   "cell_type": "code",
   "execution_count": null,
   "metadata": {},
   "outputs": [],
   "source": [
    "# CORRIGEZ LES ERREURS CE SCRIPT\n",
    "''' float conversion en integer, des \":\" qui manquait, et des '\"\"' qui manquait ''' \n"
   ]
  },
  {
   "cell_type": "code",
   "execution_count": null,
   "metadata": {},
   "outputs": [],
   "source": [
    "# RAJOUTER AU SCRIPT UNE PARTIE QUI AFFICHE TOUS LES NOMS\n",
    "'''creer une nouvelle liste names_total = [] \n",
    "dans un for loop selected, a la place de remove, il ajoute. '''\n",
    "names_total = []\n",
    "for sel in selected:\n",
    "    names_total.append(sel)    \n",
    "        "
   ]
  },
  {
   "cell_type": "code",
   "execution_count": null,
   "metadata": {},
   "outputs": [],
   "source": [
    "# FAITES EN SORTE QUE LE RESULTAT RESSEMBLE A\n",
    "    # GROUP #1:  ['nameX', 'nameX']\n",
    "    # GROUP #2:  ['nameX', 'nameX']\n",
    "    # GROUP #3:  ['nameX', 'nameX']\n",
    "    \"\"\"modifier le range entre 1, et nombre de groupes + 1   (1,4) vu que le  4 n'est pas inclus \"\"\"\n",
    "    \n",
    "for i in range(1, nb_groups+1):"
   ]
  },
  {
   "cell_type": "code",
   "execution_count": 4,
   "metadata": {},
   "outputs": [
    {
     "name": "stdout",
     "output_type": "stream",
     "text": [
      "Groupe 1: ['name4', 'name5']\n",
      "Groupe 2: ['name3', 'name1']\n",
      "Groupe 3: ['name6', 'name2']\n"
     ]
    }
   ],
   "source": [
    "# MODIFIEZ LE SCRIPT PRECEDANT POUR OBTENIR LE MEME FONCTIONNEMENT SANS AVOIR A DETERMINER LE NOMBRE DE GROUPES\n",
    "\n",
    "import random \n",
    "#Je declare tous les etudiants dans un seul string\n",
    "x = \"name1, name2, name3, name4, name5, name6\" \n",
    "#Je separe le string en diferents elements et je les transforme en une liste\n",
    "names = list(x.split(\", \")) \n",
    "\n",
    "# je define le nombre d'etudiants par groupe\n",
    "n_integrantes = 2\n",
    "i = 0\n",
    "#pendant que la liste d'etudiantes n'est pas vide, executer ceci:\n",
    "while len(names)>0:\n",
    "    selected = random.sample(names,k=n_integrantes)\n",
    "    i+=1\n",
    "    for sel in selected:\n",
    "        names.remove(sel)\n",
    "    print(\"Groupe %s: %s\" %(i,selected))\n",
    "\n",
    "\n"
   ]
  },
  {
   "cell_type": "code",
   "execution_count": 5,
   "metadata": {},
   "outputs": [
    {
     "name": "stdout",
     "output_type": "stream",
     "text": [
      "Groupe 1: ['name2', 'name3']\r",
      "Groupe 2: ['name1', 'name4']\r",
      "Groupe 3: ['name5', 'name6']\r"
     ]
    }
   ],
   "source": [
    "# MODIFIEZ LE PRINT POUR REVENIR A LA LIGNE AVANT D'AFFICHER LES GROUPES\n",
    "\n",
    "import random \n",
    "#Je declare tous les etudiants dans un seul string\n",
    "x = \"name1, name2, name3, name4, name5, name6\" \n",
    "#Je separe le string en diferents elements et je les transforme en une liste\n",
    "names = list(x.split(\", \")) \n",
    "\n",
    "# je define le nombre d'etudiants par groupe\n",
    "n_integrantes = 2\n",
    "i = 0\n",
    "\n",
    "while len(names)>0:\n",
    "    selected = random.sample(names,k=n_integrantes)\n",
    "    i+=1\n",
    "    for sel in selected:\n",
    "        names.remove(sel)\n",
    "    print(\"Groupe %s: %s\" %(i,selected), end=\"\\r\")\n"
   ]
  },
  {
   "cell_type": "code",
   "execution_count": null,
   "metadata": {},
   "outputs": [],
   "source": [
    "# xxxxxx MODIFIEZ LE SCRIPT POUR SELECTIONNER UN A UN LES MEMBRES DE LA LISTE \"selected\""
   ]
  }
 ],
 "metadata": {
  "kernelspec": {
   "display_name": "Python 3",
   "language": "python",
   "name": "python3"
  },
  "language_info": {
   "codemirror_mode": {
    "name": "ipython",
    "version": 3
   },
   "file_extension": ".py",
   "mimetype": "text/x-python",
   "name": "python",
   "nbconvert_exporter": "python",
   "pygments_lexer": "ipython3",
   "version": "3.8.3"
  }
 },
 "nbformat": 4,
 "nbformat_minor": 2
}
