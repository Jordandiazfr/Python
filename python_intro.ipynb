{
 "cells": [
  {
   "cell_type": "code",
   "execution_count": 217,
   "metadata": {},
   "outputs": [
    {
     "name": "stdout",
     "output_type": "stream",
     "text": [
      "False\n"
     ]
    },
    {
     "ename": "TypeError",
     "evalue": "'bool' object is not iterable",
     "output_type": "error",
     "traceback": [
      "\u001b[1;31m---------------------------------------------------------------------------\u001b[0m",
      "\u001b[1;31mTypeError\u001b[0m                                 Traceback (most recent call last)",
      "\u001b[1;32m<ipython-input-217-f686cb6608bd>\u001b[0m in \u001b[0;36m<module>\u001b[1;34m\u001b[0m\n\u001b[0;32m      6\u001b[0m \u001b[0mprint\u001b[0m\u001b[1;33m(\u001b[0m\u001b[0mnumber1\u001b[0m \u001b[1;33m==\u001b[0m \u001b[0mnumber2\u001b[0m\u001b[1;33m)\u001b[0m\u001b[1;33m\u001b[0m\u001b[1;33m\u001b[0m\u001b[0m\n\u001b[0;32m      7\u001b[0m \u001b[1;33m\u001b[0m\u001b[0m\n\u001b[1;32m----> 8\u001b[1;33m \u001b[0ml\u001b[0m \u001b[1;33m=\u001b[0m \u001b[1;33m[\u001b[0m\u001b[0mi\u001b[0m \u001b[1;32mfor\u001b[0m \u001b[0mi\u001b[0m \u001b[1;32min\u001b[0m \u001b[0mx\u001b[0m \u001b[1;33m<\u001b[0m\u001b[1;36m100\u001b[0m \u001b[1;33m]\u001b[0m\u001b[1;33m\u001b[0m\u001b[1;33m\u001b[0m\u001b[0m\n\u001b[0m\u001b[0;32m      9\u001b[0m \u001b[0mprint\u001b[0m\u001b[1;33m(\u001b[0m\u001b[0ml\u001b[0m\u001b[1;33m)\u001b[0m\u001b[1;33m\u001b[0m\u001b[1;33m\u001b[0m\u001b[0m\n",
      "\u001b[1;31mTypeError\u001b[0m: 'bool' object is not iterable"
     ]
    }
   ],
   "source": [
    "'''\n",
    "Given a two numbers, check if they are equals\n",
    "'''\n",
    "number1 = 20\n",
    "number2 = 30\n",
    "print(number1 == number2)\n",
    "\n",
    "l = [i for i in x <100 ]\n",
    "print(l)"
   ]
  },
  {
   "cell_type": "code",
   "execution_count": 159,
   "metadata": {},
   "outputs": [
    {
     "name": "stdout",
     "output_type": "stream",
     "text": [
      "600\n"
     ]
    }
   ],
   "source": [
    "'''\n",
    "Given a two numbers return their product\n",
    "'''\n",
    "\n",
    "number1 = 20\n",
    "number2 = 30\n",
    "print(number1*number2)\n"
   ]
  },
  {
   "cell_type": "code",
   "execution_count": 201,
   "metadata": {},
   "outputs": [
    {
     "name": "stdout",
     "output_type": "stream",
     "text": [
      "230\n"
     ]
    }
   ],
   "source": [
    "'''\n",
    "And if the product is greater than 1000, then return their sum\n",
    "'''\n",
    "\n",
    "number1 = 200\n",
    "number2 = 30\n",
    "\n",
    "if number1 * number2 > 1000:\n",
    "    print(number1 + number2)\n",
    "else:\n",
    "    print(number1*number2)\n",
    "\n"
   ]
  },
  {
   "cell_type": "code",
   "execution_count": 194,
   "metadata": {},
   "outputs": [
    {
     "data": {
      "text/plain": [
       "'the number is odd'"
      ]
     },
     "execution_count": 194,
     "metadata": {},
     "output_type": "execute_result"
    }
   ],
   "source": [
    "'''\n",
    "Depending on whether the number is even or odd, print out an appropriate message: use \"if\"\n",
    "'''\n",
    "\n",
    "my_number = 11\n",
    "\n",
    "def is_odd(number):\n",
    "    if number % 2 == 0:\n",
    "        return \"the number is even\"\n",
    "    else: \n",
    "        return \"the number is odd\"\n",
    "        \n",
    "is_odd(my_number)"
   ]
  },
  {
   "cell_type": "code",
   "execution_count": 205,
   "metadata": {},
   "outputs": [
    {
     "name": "stdout",
     "output_type": "stream",
     "text": [
      "the number is odd\n",
      "the number is even\n",
      "the number is odd\n",
      "the number is even\n",
      "the number is odd\n",
      "the number is even\n",
      "the number is odd\n",
      "the number is even\n",
      "the number is odd\n",
      "the number is even\n",
      "the number is odd\n",
      "the number is even\n",
      "the number is odd\n",
      "the number is even\n",
      "the number is odd\n",
      "the number is even\n",
      "the number is odd\n",
      "the number is even\n",
      "the number is odd\n"
     ]
    }
   ],
   "source": [
    "\n",
    "for a in range(1,20):\n",
    "    print(is_odd(a))"
   ]
  },
  {
   "cell_type": "code",
   "execution_count": 158,
   "metadata": {},
   "outputs": [
    {
     "name": "stdout",
     "output_type": "stream",
     "text": [
      "The result of multiplication of 3 x 1 is 3 \n",
      "The result of multiplication of 3 x 2 is 6 \n",
      "The result of multiplication of 3 x 3 is 9 \n",
      "The result of multiplication of 3 x 4 is 12 \n",
      "The result of multiplication of 3 x 5 is 15 \n",
      "The result of multiplication of 3 x 6 is 18 \n",
      "The result of multiplication of 3 x 7 is 21 \n",
      "The result of multiplication of 3 x 8 is 24 \n",
      "The result of multiplication of 3 x 9 is 27 \n",
      "The result of multiplication of 3 x 10 is 30 \n"
     ]
    }
   ],
   "source": [
    "'''\n",
    "Print multiplication table of given number: use \"for\" loop\n",
    "'''\n",
    "\n",
    "my_number = 3\n",
    "\n",
    "for a in range(1,11):\n",
    "    print(\"The result of multiplication of %s x %s is %s \" %(my_number,a,my_number*a))\n"
   ]
  },
  {
   "cell_type": "code",
   "execution_count": 104,
   "metadata": {},
   "outputs": [
    {
     "name": "stdout",
     "output_type": "stream",
     "text": [
      "True\n"
     ]
    }
   ],
   "source": [
    "'''\n",
    "Given a list of numbers, return True if first and last number of a list is same\n",
    "'''\n",
    "\n",
    "my_list = [1, 2, 4, 1]\n",
    "\n",
    "print(my_list[0] == my_list[3])\n"
   ]
  },
  {
   "cell_type": "code",
   "execution_count": 112,
   "metadata": {},
   "outputs": [
    {
     "name": "stdout",
     "output_type": "stream",
     "text": [
      "1 4 16 1 "
     ]
    }
   ],
   "source": [
    "'''\n",
    "Given a list turn every item of a list into its square\n",
    "'''\n",
    "\n",
    "my_list = [1, 2, 4, 1]\n",
    "for i in my_list:\n",
    "    print(i*i,end=\" \")\n",
    "    \n"
   ]
  },
  {
   "cell_type": "code",
   "execution_count": 127,
   "metadata": {},
   "outputs": [
    {
     "name": "stdout",
     "output_type": "stream",
     "text": [
      "15 20 100 10000 5 10 "
     ]
    }
   ],
   "source": [
    "'''\n",
    "Given a list iterate it and display numbers which are divisible by 5 \n",
    "'''\n",
    "\n",
    "my_list = [1, 15, 4, 20, 22, 100, 10000, 5, 10]\n",
    "\n",
    "for a  in my_list:\n",
    "    if a % 5 == 0:\n",
    "        print(a, end=\" \")\n",
    "\n"
   ]
  },
  {
   "cell_type": "code",
   "execution_count": 125,
   "metadata": {},
   "outputs": [
    {
     "name": "stdout",
     "output_type": "stream",
     "text": [
      "1 15 4 20 22 100 5 10 "
     ]
    }
   ],
   "source": [
    "'''\n",
    "change the loop so that if you find number greater than 150 stop the loop iteration\n",
    "'''\n",
    "\n",
    "my_list = [1, 15, 4, 20, 22, 100, 10000, 5, 10]\n",
    "for a in my_list:\n",
    "    if a<150:\n",
    "        print(a, end=\" \")\n"
   ]
  },
  {
   "cell_type": "code",
   "execution_count": 193,
   "metadata": {},
   "outputs": [
    {
     "name": "stdout",
     "output_type": "stream",
     "text": [
      "1 \n",
      "2 2 \n",
      "3 3 3 \n",
      "4 4 4 4 \n",
      "5 5 5 5 5 \n",
      "6 6 6 6 6 6 \n",
      "7 7 7 7 7 7 7 \n",
      "8 8 8 8 8 8 8 8 \n",
      "9 9 9 9 9 9 9 9 9 \n",
      " \n",
      "1\n",
      "22\n",
      "333\n",
      "4444\n",
      "55555\n",
      "666666\n",
      "7777777\n",
      "88888888\n",
      "999999999\n",
      "1  \n",
      "2 2  \n",
      "3 3 3  \n",
      "4 4 4 4  \n",
      "5 5 5 5 5  \n",
      "6 6 6 6 6 6  \n",
      "7 7 7 7 7 7 7  \n",
      "8 8 8 8 8 8 8 8  \n",
      "9 9 9 9 9 9 9 9 9  \n"
     ]
    }
   ],
   "source": [
    "'''\n",
    "Return the following pattern\n",
    "1 \n",
    "2 2 \n",
    "3 3 3 \n",
    "4 4 4 4 \n",
    "5 5 5 5 5'''\n",
    "\n",
    "#using string multiplicator\n",
    "for x in range(1,10): \n",
    "    print(f\"{x} \"*x)\n",
    "\n",
    "print(\" \")\n",
    "\n",
    "#using repdigits formula\n",
    "\n",
    "for y in range(1,10):\n",
    "    print(y * (10 ** y - 1) // 9) \n",
    "\n",
    "#using nested loop\n",
    "\n",
    "max_range = 9\n",
    "min_range = 1\n",
    "\n",
    "while min_range <= max_range:\n",
    "    #declare un acumulator\n",
    "    J = 1\n",
    "    while J <= min_range:\n",
    "\n",
    "            print(min_range, end=\" \")\n",
    "            J += 1\n",
    "    print(\" \")\n",
    "    min_range += 1"
   ]
  },
  {
   "cell_type": "code",
   "execution_count": 142,
   "metadata": {},
   "outputs": [
    {
     "name": "stdout",
     "output_type": "stream",
     "text": [
      "[1, 4, 2, 1]\n",
      "['1', '4', '2', '1']\n"
     ]
    }
   ],
   "source": [
    "'''\n",
    "Given a list, return its elements in reverse order\n",
    "'''\n",
    "\n",
    "my_list = [1, 2, 4, 1]\n",
    "my_list.reverse()\n",
    "print(my_list)\n",
    "\n",
    "new_list= []\n",
    "for a in my_list:\n",
    "    new_list += str(a)\n",
    "    \n",
    "print(new_list)\n"
   ]
  },
  {
   "cell_type": "code",
   "execution_count": 34,
   "metadata": {},
   "outputs": [
    {
     "name": "stdout",
     "output_type": "stream",
     "text": [
      "helloworld\n"
     ]
    }
   ],
   "source": [
    "'''\n",
    "Given 2 strings create a new string by appending s2 at the end of s1\n",
    "'''\n",
    "\n",
    "my_str1 = 'hello'\n",
    "my_str2 = 'world'\n",
    "print(my_str1 + my_str2)"
   ]
  },
  {
   "cell_type": "code",
   "execution_count": null,
   "metadata": {},
   "outputs": [],
   "source": [
    "'''\n",
    "And add '.' between them\n",
    "'''\n",
    "\n",
    "my_str1 = 'hello'\n",
    "my_str2 = 'world'\n",
    "\n",
    "print(my_str)"
   ]
  },
  {
   "cell_type": "code",
   "execution_count": 107,
   "metadata": {},
   "outputs": [
    {
     "name": "stdout",
     "output_type": "stream",
     "text": [
      "['hello', 'world', 'hello', 'good', 'morning']\n",
      " \n",
      "hello world hello good morning\n"
     ]
    }
   ],
   "source": [
    "'''\n",
    "Remove empty strings from the list of strings\n",
    "'''\n",
    "\n",
    "my_list = ['hello', '', 'world', 'hello', 'good', 'morning']\n",
    "my_list.remove(\"\")\n",
    "print(my_list)\n",
    "print(\" \")\n",
    "print(\" \".join(my_list))"
   ]
  },
  {
   "cell_type": "code",
   "execution_count": 109,
   "metadata": {},
   "outputs": [
    {
     "name": "stdout",
     "output_type": "stream",
     "text": [
      "2\n",
      "hello  world hello good  morning\n"
     ]
    }
   ],
   "source": [
    "'''\n",
    "Return the total count of the word 'hello' in the list\n",
    "'''\n",
    "\n",
    "my_list = ['hello', '', 'world', 'hello', 'good', '', 'morning']\n",
    "a = my_list.count(\"hello\")\n",
    "print(a)\n",
    "print(\" \".join(my_list))\n"
   ]
  },
  {
   "cell_type": "code",
   "execution_count": null,
   "metadata": {},
   "outputs": [],
   "source": []
  },
  {
   "cell_type": "code",
   "execution_count": null,
   "metadata": {},
   "outputs": [],
   "source": []
  },
  {
   "cell_type": "code",
   "execution_count": null,
   "metadata": {},
   "outputs": [],
   "source": []
  },
  {
   "cell_type": "code",
   "execution_count": null,
   "metadata": {},
   "outputs": [],
   "source": []
  },
  {
   "cell_type": "code",
   "execution_count": null,
   "metadata": {},
   "outputs": [],
   "source": []
  },
  {
   "cell_type": "code",
   "execution_count": null,
   "metadata": {},
   "outputs": [],
   "source": []
  },
  {
   "cell_type": "code",
   "execution_count": null,
   "metadata": {},
   "outputs": [],
   "source": []
  }
 ],
 "metadata": {
  "kernelspec": {
   "display_name": "Python 3",
   "language": "python",
   "name": "python3"
  },
  "language_info": {
   "codemirror_mode": {
    "name": "ipython",
    "version": 3
   },
   "file_extension": ".py",
   "mimetype": "text/x-python",
   "name": "python",
   "nbconvert_exporter": "python",
   "pygments_lexer": "ipython3",
   "version": "3.8.3"
  }
 },
 "nbformat": 4,
 "nbformat_minor": 2
}
